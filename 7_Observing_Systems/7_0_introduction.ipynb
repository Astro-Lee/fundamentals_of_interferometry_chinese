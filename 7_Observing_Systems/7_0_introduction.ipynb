{
 "cells": [
  {
   "cell_type": "markdown",
   "metadata": {},
   "source": [
    "***\n",
    "\n",
    "* [Outline](../0_Introduction/0_introduction.ipynb)\n",
    "* [Glossary](../0_Introduction/1_glossary.ipynb)\n",
    "* [7. Observing Systems](#)  \n",
    "    * Next: [7.1 Jones Notation](7_1_jones_notation.ipynb)\n",
    "\n",
    "***"
   ]
  },
  {
   "cell_type": "markdown",
   "metadata": {},
   "source": [
    "Import standard modules:"
   ]
  },
  {
   "cell_type": "code",
   "execution_count": 1,
   "metadata": {},
   "outputs": [
    {
     "data": {
      "text/html": [
       "<style>\n",
       "\n",
       "p.prerequisites {\n",
       "    border:5px;\n",
       "    border-style:none;\n",
       "    background-color:#F0F0F0;\n",
       "    box-shadow: 5px 5px 2px #888888;\n",
       "    border-color:#FF0000;\n",
       "    padding: 1em;\n",
       "    }\n",
       "\n",
       "p.conclusion {\n",
       "    border:5px;\n",
       "    border-style:none;\n",
       "    background-color:#c8ebca;\n",
       "    box-shadow: 5px 5px 2px #888888;\n",
       "    border-color:#c8ebca;\n",
       "    padding: 1em;\n",
       "    }\n",
       "\n",
       "div.warn {    \n",
       "    background-color: #fcf2f2;\n",
       "    border-color: #dFb5b4;\n",
       "    border-left: 5px solid #dfb5b4;\n",
       "    padding: 0.5em;\n",
       "    }\n",
       "\n",
       "div.advice {    \n",
       "    background-color: #ecf8ed;\n",
       "    border-color: #a2dda5;\n",
       "    border-left: 5px solid #a2dda5;\n",
       "    padding: 0.5em;\n",
       "    }\n",
       "\n",
       "</style>\n",
       "\n"
      ],
      "text/plain": [
       "<IPython.core.display.HTML object>"
      ]
     },
     "execution_count": 1,
     "metadata": {},
     "output_type": "execute_result"
    }
   ],
   "source": [
    "import numpy as np\n",
    "import matplotlib.pyplot as plt\n",
    "%matplotlib inline\n",
    "from IPython.display import HTML \n",
    "HTML('../style/course.css') #apply general CSS"
   ]
  },
  {
   "cell_type": "code",
   "execution_count": 2,
   "metadata": {},
   "outputs": [
    {
     "data": {
      "text/html": [
       "<script>\n",
       "    code_show=false; \n",
       "    function code_toggle() {\n",
       "        if (code_show){\n",
       "            $('div.input').hide();\n",
       "        } else {\n",
       "            $('div.input').show();\n",
       "        }\n",
       "        code_show = !code_show\n",
       "    } \n",
       "    $( document ).ready(code_toggle);\n",
       "</script>\n",
       "\n",
       "The raw code for this notebook is by default hidden for easier reading. To toggle on/off the raw code, click <a href=\"javascript:code_toggle()\">here</a>.\n",
       "\n"
      ],
      "text/plain": [
       "<IPython.core.display.HTML object>"
      ]
     },
     "execution_count": 2,
     "metadata": {},
     "output_type": "execute_result"
    }
   ],
   "source": [
    "HTML('../style/code_toggle.html')"
   ]
  },
  {
   "cell_type": "markdown",
   "metadata": {},
   "source": [
    "<div class=warn>**TODO:**</div>\n",
    "\n",
    "* add Jones terms to section titles\n",
    "* add to introduction: what is done to 'capture' a radio signal and create a visibility? a block diagram from source to image"
   ]
  },
  {
   "cell_type": "markdown",
   "metadata": {},
   "source": [
    "# <a id='instrum:sec:intro'></a><!--\\label{instrum:sec:intro}--> 第七章：观测系统 Chapter 7: Observing Systems"
   ]
  },
  {
   "cell_type": "markdown",
   "metadata": {},
   "source": [
    "When thinking about engineering and the development of an instrument from a practical point of view the key concept to get across is that *any measurement is a loss in information and is noisy*. In the case of astronomy, there is the potential to measure infinite frequency bandwidth, frequency resolution, time bandwidth, and time resolution across a $4\\pi$ area of the sky. In reality, the instruments that we can build have limits on all these parameters, so we must be selective about which information we retain based on the scientific goals and engineering limitations when an instrument is build and how it is used.\n",
    "\n",
    "谈到工程，尤其是仪器研制工程时，必须时刻牢记的一句话是，”任何测量结果都会有信息上的损失，会有噪声”。在射电天文领域，我们的美好愿望是能对整个天球的$4\\pi$区域范围，在时间和频率上进行无限宽度和无限精细度的测量，然而受限于实际的观测设备，我们必须有所取舍，必须根据科学目标、现有的工程限制和预算，选择保留哪些信息，牺牲哪些信息。\n",
    "\n",
    "<span style=\"background-color:cyan\"> \n",
    "EB:RW: above: When thinking in terms of engineering, and more specifically the development of an instrument from a practical point of view, the key thing to keep in mind is that *any measurement is a loss in information - and is noisy*. For astronomy, we would *want* to measure over an infinitely large bandwidth in both frequency and time, at an infinitely fine resolution in frequency and time, and across a $4\\pi$ area of the sky. In *practice*, the instruments we **can** build have limits on all these parameters, and so we must choose what information we retain  and what information we sacrifice... - based on our scientific goals, current engineering limitations, and budget when an instrument is conceived - taking into account how we intend to build it and how we intend to use it.\n",
    "</span>\n",
    "\n",
    "In the case of radio interferometry the instrument is the collection of receiving elements (be they dishes or dipole antennas or any number of exotic telescopes) which make up the array and the electronic chains used to detect, filter, and amplify the incoming signals. Each stage and component of the instrument has an intrinsic effect on the true sky signal. Much of the process of being able to produce a scientifically useful result from an interferometric array is being able to understand and correcting for (up to some accuracy) these intrinsic effects.\n",
    "\n",
    "在射电干涉测量领域，测量仪器是一个由接收器（碟形、偶极子或其它异性天线）和电子器件（用于探测、过滤以及放大接收信号）构成的阵列。仪器的每个组成部分都会对天空信号产生固有的仪器效应，对这些仪器效应的认识以及改正，很大程度上决定了仪器的科学产出。\n",
    "\n",
    "<span style=\"background-color:cyan\">\n",
    "EB:RW: above: In radio interferometry, an *instrument* is what we call a specific *array* of receiving elements (be they dishes, dipole antennas, or any number of exotic telescopes) along with the associated electronic chains - whose purpose is to detect, filter, and amplify the incoming signals. Each stage and component of the instrument has an intrinsic effect on the true sky signal. Much of the work of producing a scientifically useful result from an interferometric array relies on understanding these intrinsic effects, and correctinging our final signal for them (up to some accuracy).\n",
    "</span>\n",
    "\n",
    "A mathematical framework for describing an instrumental effect on a polarized electromagnetic wave, called Jones Calculus, have been well developed. Jones notation has been further used to formulate the *Radio Interferometric Measurement Equation (RIME)* which is a generic equation which describes the transform of the original electromagnetic signal to the measured signal. The RIME is deceptively simple but fully encapsulates the effects of the radio interferometer system along with any intervening effects such as the ionosphere, atmosphere, intersteller medium, etc.\n",
    "\n",
    "琼斯运算是一个用来描述上述仪器对极化电磁波的效应的数学框架，已经被扩展应用于“射电干涉测量方程（Radio Interferometric Measurement Equation，RIME）”。RIME描述了从原始电磁波信号到最终测量信号的过程，是一个通用方程，看似简单，但是涵盖了天体源信号到达仪器的整个中间过程，包括电离层、大气、星际介质、干涉测量系统等。\n",
    "\n",
    "<span style=\"background-color:cyan\"> \n",
    "EB:RW: above: There exists a well-developped mathematical framework for describing an instrumental effect on a polarized electromagnetic wave: Jones Calculus. The notation from this formalism has been extended to formulate the *Radio Interferometric Measurement Equation (RIME)*, a generic equation which describes the transformation of the original electromagnetic signal into the final measured signal. The RIME is deceptively simple, but fully encapsulates the effects of the instrument (i.e. the full radio interferometer system), along with any physical effects affecting the signal as it propagates from an astronomical source to the instrument (e.g. as the ionosphere, atmosphere, intersteller medium, etc).\n",
    "</span>\n",
    "\n",
    "This chapter will begin with the mathematical description of Jones Calculus and the RIME before moving on to explain the dominant instrumental effects seen in interferometric arrays. These effects are seperated into two types: *direction-independent effects (DIEs)* which affects signals from al direction of the sky in the same way and *direction-dependent effects (DDEs)* which vary based on the sky position of the where a signal originated. For example, the gain of a source due to it's position relative to the direction a dish is pointed is a direction-dependent effect. If the dish is moved the source will either increase or descrease in gain based on the *beam pattern* of the dish. And, the variations due to the electronic stability of the system is a direction-independent effect because the effect happens after the signal has been received.\n",
    "\n",
    "本章首先介绍琼斯运算和RIME，然后探讨各种干涉阵列的典型仪器效应。这些效应被分成两大类：一类是方向独立效应（direction-independent effects，DIE)，各方向上的效应相同；一类是方向依赖效应（direction-dependent effects，DDE)，跟信号源所在的天空位置有关。\n",
    "\n",
    "<span style=\"background-color:cyan\"> \n",
    "EB:RW: above: This chapter will begin with a mathematical description of Jones Calculus and the RIME, before moving on to typical instrumental effects affecting interferometric arrays. These effects are seperated into two types: *direction-independent effects (DIEs)*, which affect signals in the same way regardless of sky direction, and *direction-dependent effects (DDEs)*, which vary depending on the sky position of a signal's source.\n",
    "</span>\n",
    "\n",
    "系统的电子稳定性所造成的信号改变是DIE的一个典型例子，由于这种效应发生在信号被接收到以后，因此对各方向的影响是一致的，即产生的是方向独立效应。增益则是DDE的一个例子，因为源的增益跟源与天线指向的相对位置有关，随着天线的移动，源的增益是一个天线的“波束模式“的函数。\n",
    "\n",
    "<span style=\"background-color:cyan\"> \n",
    "EB:RW: above: An example of a DIE is the signal variations due to the system's electronic stability, because the effect occurs after the signal has been received - and thus affects signals from every direction equally. An example of a DDE is the gain of a source due to its position relative to a dish's pointing direction: if the dish moves, the source's gain will change as a function of the dish's *beam pattern*.\n",
    "</span>\n",
    "\n",
    "As we will see in this chapter, the measurement of the sky will be affected by the design and stability of the system electronics, power pattern of the receiving elements, the type of mounts and pointing of dishes, the intervening mediums such as the atmosphere, and *radio frequency interference (RFI)* due to humans, terrestrial sources such as lightning, or the Sun.\n",
    "\n",
    "射电干涉测量会受到电子器件的设计和稳定性([$\\S$ 7.3 &#10142;](7_3_analogue.ipynb), [$\\S$ 7.4 &#10142;](7_4_digital.ipynb))、 接收单元的功率模式([$\\S$ 7.5 &#10142;](7_5_primary_beam.ipynb))、天线的安装方式和指向 ([$\\S$ 7.5 &#10142;](7_5_primary_beam.ipynb))、传输介质比如大气([$\\S$ 7.7 &#10142;](7_7_propagation_effects.ipynb))、以及射电干扰([$\\S$ 7.8 &#10142;](7_8_rfi.ipynb))等因素的影响。 \n",
    "\n",
    "<span style=\"background-color:cyan\"> \n",
    "EB:RW: above: As we will see in this chapter, an instrument's measurement of the sky will be affected by the design and stability of its electronics ([$\\S$ 7.3 &#10142;](7_3_analogue.ipynb), [$\\S$ 7.4 &#10142;](7_4_digital.ipynb)), the power pattern of its receiving elements ([$\\S$ 7.5 &#10142;](7_5_primary_beam.ipynb)), its type of mounts and dish pointing ([$\\S$ 7.5 &#10142;](7_5_primary_beam.ipynb)), intervening media such as the atmosphere ([$\\S$ 7.7 &#10142;](7_7_propagation_effects.ipynb)), and *radio frequency interference (RFI)* ([$\\S$ 7.8 &#10142;](7_8_rfi.ipynb)), which are caused by various factors such as human activity, terrestrial sources such as lightning, or the Sun.\n",
    "</span"
   ]
  },
  {
   "cell_type": "markdown",
   "metadata": {},
   "source": [
    "#### Chapter Outline"
   ]
  },
  {
   "cell_type": "markdown",
   "metadata": {},
   "source": [
    "1. [Jones Notation](7_1_jones_notation.ipynb)\n",
    "2. [The Measurement Equation (RIME)](7_2_rime.ipynb)\n",
    "3. [Analogue Electronics](7_3_analogue.ipynb)\n",
    "4. [Digital Correlators](7_4_digital.ipynb)\n",
    "5. [Primary Beam](7_5_primary_beam.ipynb)\n",
    "6. [Polarization and Antenna Feeds](7_6_polarization.ipynb)\n",
    "7. [Propagation Effects](7_7_propagation_effects.ipynb)\n",
    "8. [Radio Frequency Interference (RFI)](7_8_rfi.ipynb)\n",
    "9. [Further Reading and References](7_x_further_reading_and_references.ipynb)"
   ]
  },
  {
   "cell_type": "markdown",
   "metadata": {},
   "source": [
    "#### Chapter Editors\n",
    "\n",
    "* Kshitij Thorat\n",
    "* Ermias Abebe Kassaye\n",
    "* Alexander Akoto-Danso\n",
    "* Griffin Foster\n",
    "* Etienne Bonnassieux (2017)\n",
    "\n",
    "#### Chapter Contributors\n",
    "\n",
    "* Oleg Smirnov (**7.1**, **7.2**)\n",
    "* Modhurita Mitra (7.2, 7.5)\n",
    "* Simon Perkins (7.2)\n",
    "* Griffin Foster (**7.0**, **7.3**, **7.4**, **7.5**, **7.6**, **7.8**)\n",
    "* Ridhima Nunhokee (**7.6**)\n",
    "* Roger Deane (**7.7**)\n",
    "\n",
    "#### Format status:\n",
    "\n",
    "* <span style=\"background-color:green\">&nbsp;&nbsp;&nbsp;&nbsp;</span> : LF: 06/02/2017\n",
    "* <span style=\"background-color:green\">&nbsp;&nbsp;&nbsp;&nbsp;</span> : NC: 06/02/2017\n",
    "* <span style=\"background-color:green\">&nbsp;&nbsp;&nbsp;&nbsp;</span> : RF: 06/02/2017\n",
    "* <span style=\"background-color:green\">&nbsp;&nbsp;&nbsp;&nbsp;</span> : HF: 06/02/2017\n",
    "* <span style=\"background-color:green\">&nbsp;&nbsp;&nbsp;&nbsp;</span> : GM: 06/02/2017\n",
    "* <span style=\"background-color:green\">&nbsp;&nbsp;&nbsp;&nbsp;</span> : CC: 06/02/2017\n",
    "* <span style=\"background-color:green\">&nbsp;&nbsp;&nbsp;&nbsp;</span> : CL: 07/02/2017\n",
    "* <span style=\"background-color:green\">&nbsp;&nbsp;&nbsp;&nbsp;</span> : ST: 07/02/2017\n",
    "* <span style=\"background-color:green\">&nbsp;&nbsp;&nbsp;&nbsp;</span> : FN: 06/02/2017\n",
    "* <span style=\"background-color:green\">&nbsp;&nbsp;&nbsp;&nbsp;</span> : TC: 06/02/2017\n",
    "* <span style=\"background-color:red\">&nbsp;&nbsp;&nbsp;&nbsp;</span> : XX: Date\n",
    "\n",
    "Todo:\n",
    "* implement I instead of B for brightness matrix\n",
    "* figure out wtf is up with section 7.7 inside notebook 7.5"
   ]
  },
  {
   "cell_type": "markdown",
   "metadata": {},
   "source": [
    "***\n",
    "\n",
    "Next: [7.1 Jones Notation](7_1_jones_notation.ipynb)"
   ]
  }
 ],
 "metadata": {
  "kernelspec": {
   "display_name": "Python 3",
   "language": "python",
   "name": "python3"
  },
  "language_info": {
   "codemirror_mode": {
    "name": "ipython",
    "version": 3
   },
   "file_extension": ".py",
   "mimetype": "text/x-python",
   "name": "python",
   "nbconvert_exporter": "python",
   "pygments_lexer": "ipython3",
   "version": "3.6.9"
  }
 },
 "nbformat": 4,
 "nbformat_minor": 1
}
