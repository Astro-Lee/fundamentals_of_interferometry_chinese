{
 "cells": [
  {
   "cell_type": "markdown",
   "metadata": {},
   "source": [
    "***\n",
    "\n",
    "* [Outline](../0_Introduction/0_introduction.ipynb)\n",
    "* [Glossary](../0_Introduction/1_glossary.ipynb)\n",
    "* [8. Calibration ](8_0_introduction.ipynb) \n",
    "    * Next: [8.1 Calibration as a Least Squares Problem](8_1_calibration_least_squares_problem.ipynb)\n",
    "\n",
    "***"
   ]
  },
  {
   "cell_type": "markdown",
   "metadata": {},
   "source": [
    "## Chapter 8: 校准 Calibration<a id='calibration:sec:intro'></a>"
   ]
  },
  {
   "cell_type": "markdown",
   "metadata": {},
   "source": [
    "<span style=\"background-color:red\">GIG:AC:\n",
    "1. <span style=\"background-color:red\">The thing that misses is the description of calibration artifacts in the image domain and a description how they look like (there is an example, but it does not explain why the artifacts look like they do (basically the calculated PSF is not the real one, amp cal errors are symmetric, phase antisymmetric). </span>\n",
    "2. <span style=\"background-color:red\">How do amplitude errors reflect in the (residual) image, how phase errors. It may even be nice to add a piece of code that simulates pure amplitude errors, and pure phase errors. </span>\n",
    "3. <span style=\"background-color:red\">Chapter 4.3 should be expanded (Also maybe 4.2, although I am not an editor of that one).</span>\n",
    "4. <span style=\"background-color:red\">Highlighting is used sparsely if at all. I, personally, don't have a problem with that.</span>"
   ]
  },
  {
   "cell_type": "code",
   "execution_count": null,
   "metadata": {
    "collapsed": true
   },
   "outputs": [],
   "source": [
    "def solution_residual_matrix(gain, x, xwt):\n",
    "    nants, _, nchan, nrec, _ = x.shape\n",
    "    residual = numpy.zeros([nchan, nrec, rec])\n",
    "    sumwt = numpy.zeros([nchan, nrec, nrec])\n",
    "    \n",
    "    # 以下代码开始残值的计算\n",
    "    for ant1 in range(nants):                #第一层循环：天线\n",
    "        for ant2 in range(nants):            #第二层循环：天线\n",
    "            for chan in range(nchan):      #第三层循环：通道\n",
    "                for rec1 in range(nrec): \n",
    "                    for rec2 in range(nrec):\n",
    "                        error = x[ant2, ant1, chan, rec2, rec1] - gain[ant1, chan, rec2, rec1] * \\\n",
    "                                numpy.conjugate(gain[ant2, chan, rec2, rec1])\n",
    "                        residual[chan, rec2, rec1] += (error * xwt[ant2, ant1, chan, rec2, rec1] *\\\n",
    "                                    numpy.conjugate(error)).real\n",
    "                        sumwt[chan, rec2, rec1] += xwt[ant2, ant1, chan, rec2, rec1]\n",
    "    residual[sumwt > 0.0] = numpy.sqrt(residual[sumwt > 0.0] / sumwt[sumwt > 0.0])\n",
    "    residual[sumwt <= 0.0] = 0.0\n",
    "    return residual\n"
   ]
  },
  {
   "cell_type": "markdown",
   "metadata": {},
   "source": [
    "校准是射电干涉测量的重要组成部分，但对它的研究还不够充分。在前一章，即观测系统中我们已经了解到，射电测量过程中存在许多效应，会给测量到的信号带来误差，一些效应可以通过电子设备跟“先验”信息进行改正，一些效应需要进行特别的校准。校准过程中，要用到大量参数，对接收到的信号进行改正，在[$\\S$ 8.1 &#10142;](../8_Calibration/8_1_calibration_least_squares_problem.ipynb)讨论了一些最常用到的方法。\n",
    "\n",
    "Calibration is an important, as yet under-discussed, part of radio interferometry. As the previous chapter on observation systems has shown, there are many effects which can introduce errors into the signal measured by a radio interferometer. While some of these effects can be corrected by electronics and *a priori* information, some effects require explicit calibration. Calibration involves the determination of a number of parameters which can be used to correct the received signal. The numerical method most commonly used for this purpose is discussed in [$\\S$ 8.1 &#10142;](../8_Calibration/8_1_calibration_least_squares_problem.ipynb).\n",
    "\n",
    "校准经历了三代：第一代、第二代和第三代校准（1GC、2GC和3GC）。1GC是最古老的校准方法，如今仍然通用，它通过对已知参数的源进行观测，从而校准各种效应。1GC的基本思路是，选择一个目标视场以外的已知校准源，对该源进行观测获得校准方案，再用该方案对目标场的观测进行改正，在[$\\S$ 8.2 &#10142;](../8_Calibration/8_2_1gc.ipynb)中会对1GC做进一步讨论。本节还会引入闭合量的概念，是衡量干涉仪性能的一个有效指标。\n",
    "\n",
    "Calibration is often divided into three generations: first, second and third generation calibration (1GC, 2GC and 3GC respectively). 1GC is the oldest method of calibration and is still in common use. It exploits observations of sources with known parameters to calibrate for a variety of effects. The basic idea behind 1GC is to observe a known calibrator source (it need not be in the target field); we then use this calibrator observation to obtain calibration solutions which we then use to correct our target field observation, i.e. we *transfer* the solutions to the target field. This is discussed further in [$\\S$ 8.2 &#10142;](../8_Calibration/8_2_1gc.ipynb). This section also introduces the notion of closure quantities, which are useful diagnostics of the performance of an interferometer.\n",
    "\n",
    "2GC指的是自校准方法。采用迭代方式，使用一系列天空模型做去卷积操作，从而实现对目标场的校准。2GC比1GC更有效，因为1GC只用到校准观测值，而2GC兼顾了目标场本身的特有效应。\n",
    "\n",
    "2GC is used to describe the method of self-calibration. This is an iterative procedure which makes use of successive sky model updates via deconvolution to calibrate using the target field. This is particularly useful as it accounts for effects unique to the target field rather than relying solely on the calibrator observations of 1GC. 2GC is the subject of [$\\S$ 8.3 &#10142;](../8_Calibration/8_3_2gc.ipynb).\n",
    "\n",
    "本章的最后一节[$\\S$ 8.4 &#10142;](../8_Calibration/8_4_3gc.ipynb) 介绍了校准的最新进展以及3GC校准方法。3GC主要针对方向依赖效应校准，这些方向依赖效应在整个视场中不均匀，因此需要采用特别方法加以去除，其中很多方法源于2GC的自校准理念，是2GC的扩展。\n",
    "\n",
    "The last section of the chapter, [$\\S$ 8.4 &#10142;](../8_Calibration/8_4_3gc.ipynb) deals with the most recent advances of calibration and the methods of third generation calibration. 3GC deals specifically with the calibration of *direction-dependent effects*. As these effects are not uniform across the field of view, special care needs to be taken to remove them. Many of these methods are extensions of 2GC self-calibration ideas.\n",
    "\n",
    "最后，我们提供了一些参考资料以及进一步的文献。\n",
    "\n",
    "Finally, we provide an overview of references and further literature."
   ]
  },
  {
   "cell_type": "markdown",
   "metadata": {},
   "source": [
    "#### Chapter Sections\n",
    "\n",
    "1. [Calibration as a Least Squares Problem](8_1_calibration_least_squares_problem.ipynb)\n",
    "2. [First Generation Calibration (1GC)](8_2_1gc.ipynb)\n",
    "2. [Second Generation Calibration (2GC)](8_3_2gc.ipynb)\n",
    "3. [Third Generation Calibration (3GC)](8_4_3gc.ipynb)\n",
    "4. [Further Reading and References](8_5_further_reading_and_references.ipynb)"
   ]
  },
  {
   "cell_type": "markdown",
   "metadata": {},
   "source": [
    "#### Chapter Editors\n",
    "* Gyula Jozsa (2017, **8.0**, **8.2**, **8.4**, **8.5**)\n",
    "* Athanaseus Ramaila (2017, **8.1**, **8.3**)\n",
    "\n",
    "#### Chapter Contributors\n",
    "\n",
    "* Trienko Grobler (**8.1**, **8.3**, **8.4**)\n",
    "* Jonathan Kenyon (**8.2**)\n",
    "\n",
    "#### Format status:\n",
    "\n",
    "* <span style=\"background-color:green\">&nbsp;&nbsp;&nbsp;&nbsp;</span> : LF: 17/02/13\n",
    "* <span style=\"background-color:green\">&nbsp;&nbsp;&nbsp;&nbsp;</span> : NC: 17/02/13\n",
    "* <span style=\"background-color:green\">&nbsp;&nbsp;&nbsp;&nbsp;</span> : RF: 17/02/13\n",
    "* <span style=\"background-color:green\">&nbsp;&nbsp;&nbsp;&nbsp;</span> : HF: 17/02/13\n",
    "* <span style=\"background-color:green\">&nbsp;&nbsp;&nbsp;&nbsp;</span> : GM: 17/02/13\n",
    "* <span style=\"background-color:green\">&nbsp;&nbsp;&nbsp;&nbsp;</span> : CC: 17/02/13\n",
    "* <span style=\"background-color:green\">&nbsp;&nbsp;&nbsp;&nbsp;</span> : CL: 17/02/13\n",
    "* <span style=\"background-color:green\">&nbsp;&nbsp;&nbsp;&nbsp;</span> : ST: 17/02/13\n",
    "* <span style=\"background-color:green\">&nbsp;&nbsp;&nbsp;&nbsp;</span> : FN: 17/02/13\n",
    "* <span style=\"background-color:green\">&nbsp;&nbsp;&nbsp;&nbsp;</span> : TC: 17/02/13\n",
    "* <span style=\"background-color:green\">&nbsp;&nbsp;&nbsp;&nbsp;</span> : XX: 17/02/13"
   ]
  },
  {
   "cell_type": "markdown",
   "metadata": {},
   "source": [
    "***\n",
    "\n",
    "Next: [8.1 Calibration as a Least Squares Problem](8_1_calibration_least_squares_problem.ipynb)"
   ]
  }
 ],
 "metadata": {
  "kernelspec": {
   "display_name": "Python 3",
   "language": "python",
   "name": "python3"
  },
  "language_info": {
   "codemirror_mode": {
    "name": "ipython",
    "version": 3
   },
   "file_extension": ".py",
   "mimetype": "text/x-python",
   "name": "python",
   "nbconvert_exporter": "python",
   "pygments_lexer": "ipython3",
   "version": "3.6.9"
  }
 },
 "nbformat": 4,
 "nbformat_minor": 1
}
